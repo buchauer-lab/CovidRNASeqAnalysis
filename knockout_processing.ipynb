{
 "cells": [
  {
   "cell_type": "code",
   "execution_count": 12,
   "id": "ca1df44a-e3f4-4a9d-83d2-b8e580360da2",
   "metadata": {
    "tags": []
   },
   "outputs": [],
   "source": [
    "#deoptimised\n",
    "from Bio import SeqIO\n",
    "\n",
    "path_to_second_fa= 'nsp16.fa'\n",
    "path_to_first_fa = 'Sars_cov_2.ASM985889v3.dna.toplevel.fa'\n",
    "sequence_to_replace = 'TGGAGTCACATTAAT' \n",
    "\n",
    "with open(path_to_first_fa, 'r') as first_file:\n",
    "    first_seq_record = next(SeqIO.parse(first_file, 'fasta'))\n",
    "first_seq = str(first_seq_record.seq)\n",
    "\n",
    "with open(path_to_second_fa, 'r') as second_file:\n",
    "    second_seq_record = next(SeqIO.parse(second_file, 'fasta'))\n",
    "second_seq = str(second_seq_record.seq)\n",
    "\n",
    "index = first_seq.find(sequence_to_replace)\n",
    "if index != -1:\n",
    "    replace_length = len(sequence_to_replace)\n",
    "    replace_with = second_seq[:replace_length] \n",
    "    new_seq = first_seq[:index] + replace_with + first_seq[index+replace_length:]\n",
    "else:\n",
    "    new_seq = first_seq\n",
    "\n",
    "new_seq_record = first_seq_record\n",
    "new_seq_record.seq = new_seq\n",
    "with open('modified_sequence.fa', 'w') as output_file:\n",
    "    SeqIO.write(new_seq_record, output_file, 'fasta')\n"
   ]
  },
  {
   "cell_type": "code",
   "execution_count": 13,
   "id": "2771fcc7-1e1a-420d-9afa-ff35462ffa46",
   "metadata": {
    "tags": []
   },
   "outputs": [],
   "source": [
    "#nockout\n",
    "from Bio import SeqIO\n",
    "\n",
    "path_to_second_fa= 'nsp16.fa'\n",
    "path_to_first_fa = 'Sars_cov_2.ASM985889v3.dna.toplevel.fa'\n",
    "sequence_to_find = 'TGGAGTCACATTAAT'\n",
    "\n",
    "with open(path_to_first_fa, 'r') as first_file:\n",
    "    first_seq_record = next(SeqIO.parse(first_file, 'fasta'))\n",
    "first_seq = str(first_seq_record.seq)\n",
    "\n",
    "with open(path_to_second_fa, 'r') as second_file:\n",
    "    second_seq_record = next(SeqIO.parse(second_file, 'fasta'))\n",
    "second_seq = str(second_seq_record.seq)\n",
    "\n",
    "length_of_second_file = len(second_seq)\n",
    "\n",
    "index = first_seq.find(sequence_to_find)\n",
    "if index != -1:\n",
    "    new_seq = first_seq[:index] + first_seq[index + length_of_second_file:]\n",
    "else:\n",
    "    new_seq = first_seq\n",
    "\n",
    "new_seq_record = first_seq_record\n",
    "new_seq_record.seq = new_seq\n",
    "with open('knockout.fa', 'w') as output_file:\n",
    "    SeqIO.write(new_seq_record, output_file, 'fasta')\n"
   ]
  }
 ],
 "metadata": {
  "kernelspec": {
   "display_name": "Python 3 (ipykernel)",
   "language": "python",
   "name": "python3"
  },
  "language_info": {
   "codemirror_mode": {
    "name": "ipython",
    "version": 3
   },
   "file_extension": ".py",
   "mimetype": "text/x-python",
   "name": "python",
   "nbconvert_exporter": "python",
   "pygments_lexer": "ipython3",
   "version": "3.10.9"
  }
 },
 "nbformat": 4,
 "nbformat_minor": 5
}
